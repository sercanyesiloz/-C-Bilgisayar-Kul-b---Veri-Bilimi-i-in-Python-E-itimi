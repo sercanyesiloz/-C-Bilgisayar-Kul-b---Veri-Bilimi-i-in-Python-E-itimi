{
 "cells": [
  {
   "cell_type": "markdown",
   "id": "88ea02bd",
   "metadata": {},
   "source": [
    "# Veri Bilimi için Python: NumPy\n",
    "\n",
    "## 1. NumPy Nedir?\n",
    "NumPy, dizilerle çalışmak için kullanılan bir Python kütüphanesidir. Ayrıca doğrusal cebir, fourier dönüşümü ve matrisler alanında çalışmak için de gerekli işlevlere sahiptir. NumPy, 2005 yılında Travis Oliphant tarafından oluşturulmuştur. Açık kaynak kodlu bir projedir ve özgürce kullanabilirsiniz. NumPy, Numeriacal Python (Sayısal Python)’un kısaltmasıdır.\n",
    "\n",
    "## 2. Neden NumPy Kullanılır?\n",
    "Python’da dizilerin amacına hizmet eden listelerimiz var, ancak işlenmesi yavaştır. NumPy, geleneksel Python listelerinden 50 kata kadar daha hızlı bir dizi nesnesi sağlamayı amaçlamaktadır. NumPy’deki dizi nesnesi (array) ndarray olarak adlandırılır ve ndarray, çalışmayı çok kolaylaştıran birçok destekleyici işlev sağlar. Diziler, hız ve kaynakların çok önemli olduğu veri biliminde çok sık kullanılır.\n",
    "\n",
    "## 3. NumPy Neden Listelerden Daha Hızlı?\n",
    "NumPy bir Python kütüphanesidir ve kısmen Python’da yazılmıştır, ancak hızlı hesaplama gerektiren parçaların çoğu C veya C ++ ile yazılmıştır."
   ]
  },
  {
   "cell_type": "code",
   "execution_count": 1,
   "id": "cdfc6f07",
   "metadata": {},
   "outputs": [],
   "source": [
    "#Numpy kütüphanesini yükleyelim\n",
    "import numpy as np"
   ]
  },
  {
   "cell_type": "code",
   "execution_count": 2,
   "id": "d74aed7a",
   "metadata": {},
   "outputs": [
    {
     "name": "stdout",
     "output_type": "stream",
     "text": [
      "1.21.5\n"
     ]
    }
   ],
   "source": [
    "#Versiyonunu kontrol edelim\n",
    "print(np.__version__)"
   ]
  },
  {
   "cell_type": "markdown",
   "id": "e2fca27a",
   "metadata": {},
   "source": [
    "## 4. NumPy Dizisi Oluşturma"
   ]
  },
  {
   "cell_type": "code",
   "execution_count": 4,
   "id": "5aea221c",
   "metadata": {},
   "outputs": [
    {
     "data": {
      "text/plain": [
       "numpy.ndarray"
      ]
     },
     "execution_count": 4,
     "metadata": {},
     "output_type": "execute_result"
    }
   ],
   "source": [
    "a = np.array([1, 2, 3])\n",
    "\n",
    "type(a)"
   ]
  },
  {
   "cell_type": "code",
   "execution_count": 6,
   "id": "38e56bd3",
   "metadata": {},
   "outputs": [
    {
     "data": {
      "text/plain": [
       "numpy.ndarray"
      ]
     },
     "execution_count": 6,
     "metadata": {},
     "output_type": "execute_result"
    }
   ],
   "source": [
    "b = np.array([4, 5, 6])\n",
    "\n",
    "type(b)"
   ]
  },
  {
   "cell_type": "code",
   "execution_count": 57,
   "id": "3332c276",
   "metadata": {},
   "outputs": [
    {
     "data": {
      "text/plain": [
       "array([1, 2, 3, 4, 5, 6, 7, 8, 9])"
      ]
     },
     "execution_count": 57,
     "metadata": {},
     "output_type": "execute_result"
    }
   ],
   "source": [
    "#arange ile bir array oluşturma\n",
    "np.arange(1, 10)"
   ]
  },
  {
   "cell_type": "code",
   "execution_count": 58,
   "id": "8a47974f",
   "metadata": {},
   "outputs": [
    {
     "data": {
      "text/plain": [
       "array([ 1,  2,  3,  4,  5,  6,  7,  8,  9, 10, 11, 12, 13, 14, 15, 16, 17,\n",
       "       18, 19])"
      ]
     },
     "execution_count": 58,
     "metadata": {},
     "output_type": "execute_result"
    }
   ],
   "source": [
    "np.arange(1, 20)"
   ]
  },
  {
   "cell_type": "code",
   "execution_count": 59,
   "id": "cae98399",
   "metadata": {},
   "outputs": [
    {
     "data": {
      "text/plain": [
       "array([50, 51, 52, 53, 54, 55, 56, 57, 58, 59])"
      ]
     },
     "execution_count": 59,
     "metadata": {},
     "output_type": "execute_result"
    }
   ],
   "source": [
    "np.arange(50, 60)"
   ]
  },
  {
   "cell_type": "code",
   "execution_count": 112,
   "id": "1a465823",
   "metadata": {},
   "outputs": [
    {
     "data": {
      "text/plain": [
       "array([ 1,  3,  5,  7,  9, 11, 13, 15, 17, 19, 21, 23, 25, 27, 29])"
      ]
     },
     "execution_count": 112,
     "metadata": {},
     "output_type": "execute_result"
    }
   ],
   "source": [
    "np.arange(1, 30, 2)"
   ]
  },
  {
   "cell_type": "code",
   "execution_count": 15,
   "id": "d83dd8b6",
   "metadata": {},
   "outputs": [
    {
     "data": {
      "text/plain": [
       "array([0., 0., 0., 0., 0.])"
      ]
     },
     "execution_count": 15,
     "metadata": {},
     "output_type": "execute_result"
    }
   ],
   "source": [
    "#zeros ile bir array oluşturma\n",
    "np.zeros(5)"
   ]
  },
  {
   "cell_type": "code",
   "execution_count": 60,
   "id": "2f698eec",
   "metadata": {},
   "outputs": [
    {
     "data": {
      "text/plain": [
       "array([0., 0., 0., 0., 0., 0., 0., 0., 0., 0.])"
      ]
     },
     "execution_count": 60,
     "metadata": {},
     "output_type": "execute_result"
    }
   ],
   "source": [
    "np.zeros(10)"
   ]
  },
  {
   "cell_type": "code",
   "execution_count": 16,
   "id": "6a19538d",
   "metadata": {},
   "outputs": [
    {
     "data": {
      "text/plain": [
       "array([1., 1., 1., 1., 1.])"
      ]
     },
     "execution_count": 16,
     "metadata": {},
     "output_type": "execute_result"
    }
   ],
   "source": [
    "#ones ile bir array oluşturma\n",
    "np.ones(5)"
   ]
  },
  {
   "cell_type": "code",
   "execution_count": 62,
   "id": "78b19909",
   "metadata": {},
   "outputs": [
    {
     "data": {
      "text/plain": [
       "array([1., 1., 1., 1., 1., 1., 1., 1.])"
      ]
     },
     "execution_count": 62,
     "metadata": {},
     "output_type": "execute_result"
    }
   ],
   "source": [
    "np.ones(8)"
   ]
  },
  {
   "cell_type": "code",
   "execution_count": 35,
   "id": "736e5375",
   "metadata": {},
   "outputs": [
    {
     "data": {
      "text/plain": [
       "array([0.  , 0.25, 0.5 , 0.75, 1.  ])"
      ]
     },
     "execution_count": 35,
     "metadata": {},
     "output_type": "execute_result"
    }
   ],
   "source": [
    "#linspace ile bir array oluşturma\n",
    "np.linspace(0, 1, 5)"
   ]
  },
  {
   "cell_type": "code",
   "execution_count": 63,
   "id": "6d1698c8",
   "metadata": {},
   "outputs": [
    {
     "data": {
      "text/plain": [
       "array([  0.,  25.,  50.,  75., 100.])"
      ]
     },
     "execution_count": 63,
     "metadata": {},
     "output_type": "execute_result"
    }
   ],
   "source": [
    "np.linspace(0, 100, 5)"
   ]
  },
  {
   "cell_type": "markdown",
   "id": "e9d23f2f",
   "metadata": {},
   "source": [
    "## 5. Çok Boyutlu NumPy Dizisi Oluşturma"
   ]
  },
  {
   "cell_type": "code",
   "execution_count": 66,
   "id": "b07a0f54",
   "metadata": {},
   "outputs": [
    {
     "data": {
      "text/plain": [
       "array([[2, 3, 4],\n",
       "       [3, 4, 5]])"
      ]
     },
     "execution_count": 66,
     "metadata": {},
     "output_type": "execute_result"
    }
   ],
   "source": [
    "a = np.array([[2, 3, 4],\n",
    "              [3, 4, 5]])\n",
    "\n",
    "a"
   ]
  },
  {
   "cell_type": "code",
   "execution_count": 67,
   "id": "c9861cff",
   "metadata": {},
   "outputs": [
    {
     "data": {
      "text/plain": [
       "array([[1., 1., 1.],\n",
       "       [1., 1., 1.],\n",
       "       [1., 1., 1.]])"
      ]
     },
     "execution_count": 67,
     "metadata": {},
     "output_type": "execute_result"
    }
   ],
   "source": [
    "b = np.ones((3, 3))\n",
    "\n",
    "b"
   ]
  },
  {
   "cell_type": "code",
   "execution_count": 68,
   "id": "c9e945f3",
   "metadata": {},
   "outputs": [
    {
     "data": {
      "text/plain": [
       "array([[0., 0., 0.],\n",
       "       [0., 0., 0.],\n",
       "       [0., 0., 0.]])"
      ]
     },
     "execution_count": 68,
     "metadata": {},
     "output_type": "execute_result"
    }
   ],
   "source": [
    "c = np.zeros((3, 3))\n",
    "\n",
    "c"
   ]
  },
  {
   "cell_type": "code",
   "execution_count": 69,
   "id": "4a2bb358",
   "metadata": {},
   "outputs": [
    {
     "data": {
      "text/plain": [
       "2"
      ]
     },
     "execution_count": 69,
     "metadata": {},
     "output_type": "execute_result"
    }
   ],
   "source": [
    "#boyut sayısını kontrol etmek\n",
    "a.ndim"
   ]
  },
  {
   "cell_type": "code",
   "execution_count": 70,
   "id": "d0381c9a",
   "metadata": {},
   "outputs": [
    {
     "data": {
      "text/plain": [
       "(2, 3)"
      ]
     },
     "execution_count": 70,
     "metadata": {},
     "output_type": "execute_result"
    }
   ],
   "source": [
    "#dizinin satır-sütun sayısını bulmak\n",
    "a.shape"
   ]
  },
  {
   "cell_type": "code",
   "execution_count": 71,
   "id": "22e5930c",
   "metadata": {},
   "outputs": [
    {
     "data": {
      "text/plain": [
       "array([[1., 1., 1., 1., 1.],\n",
       "       [1., 1., 1., 1., 1.]])"
      ]
     },
     "execution_count": 71,
     "metadata": {},
     "output_type": "execute_result"
    }
   ],
   "source": [
    "#dizinin boyut sayısını değiştirmek\n",
    "d = np.ones((2, 5))\n",
    "\n",
    "d"
   ]
  },
  {
   "cell_type": "code",
   "execution_count": 72,
   "id": "d027f474",
   "metadata": {},
   "outputs": [
    {
     "data": {
      "text/plain": [
       "array([[1., 1.],\n",
       "       [1., 1.],\n",
       "       [1., 1.],\n",
       "       [1., 1.],\n",
       "       [1., 1.]])"
      ]
     },
     "execution_count": 72,
     "metadata": {},
     "output_type": "execute_result"
    }
   ],
   "source": [
    "d.reshape(5, 2)"
   ]
  },
  {
   "cell_type": "code",
   "execution_count": 78,
   "id": "4c233f09",
   "metadata": {},
   "outputs": [
    {
     "data": {
      "text/plain": [
       "array([[0., 0., 0., 0., 0., 0.],\n",
       "       [0., 0., 0., 0., 0., 0.],\n",
       "       [0., 0., 0., 0., 0., 0.]])"
      ]
     },
     "execution_count": 78,
     "metadata": {},
     "output_type": "execute_result"
    }
   ],
   "source": [
    "e = np.zeros(shape = (3, 6))\n",
    "\n",
    "e"
   ]
  },
  {
   "cell_type": "code",
   "execution_count": 79,
   "id": "92096b3e",
   "metadata": {},
   "outputs": [
    {
     "data": {
      "text/plain": [
       "(3, 6)"
      ]
     },
     "execution_count": 79,
     "metadata": {},
     "output_type": "execute_result"
    }
   ],
   "source": [
    "e.shape"
   ]
  },
  {
   "cell_type": "code",
   "execution_count": 80,
   "id": "268c4cdb",
   "metadata": {},
   "outputs": [
    {
     "data": {
      "text/plain": [
       "array([[0., 0.],\n",
       "       [0., 0.],\n",
       "       [0., 0.],\n",
       "       [0., 0.],\n",
       "       [0., 0.],\n",
       "       [0., 0.],\n",
       "       [0., 0.],\n",
       "       [0., 0.],\n",
       "       [0., 0.]])"
      ]
     },
     "execution_count": 80,
     "metadata": {},
     "output_type": "execute_result"
    }
   ],
   "source": [
    "e = e.reshape(9, 2)\n",
    "\n",
    "e"
   ]
  },
  {
   "cell_type": "code",
   "execution_count": 81,
   "id": "d3d083b4",
   "metadata": {},
   "outputs": [
    {
     "data": {
      "text/plain": [
       "(9, 2)"
      ]
     },
     "execution_count": 81,
     "metadata": {},
     "output_type": "execute_result"
    }
   ],
   "source": [
    "e.shape"
   ]
  },
  {
   "cell_type": "markdown",
   "id": "2a792b1a",
   "metadata": {},
   "source": [
    "## 6. Diziden Eleman Seçmek\n",
    "\n",
    "- Bir diziden eleman seçimi yapmak için **köşeli parantez** kullanılır.\n",
    "- Köşeli parantez içine tek bir indeks ya da bir aralık girilebilir.\n",
    "- İlk girilen değer **satır indeksi**, ikinci girilen değer sütun indeksidir."
   ]
  },
  {
   "cell_type": "code",
   "execution_count": 83,
   "id": "2a03eb30",
   "metadata": {},
   "outputs": [
    {
     "data": {
      "text/plain": [
       "array([ 8,  9, 10, 11, 12, 13, 14, 15])"
      ]
     },
     "execution_count": 83,
     "metadata": {},
     "output_type": "execute_result"
    }
   ],
   "source": [
    "#Tek boyutlu diziden eleman seçmek\n",
    "a = np.array([8, 9, 10, 11, 12, 13, 14, 15])\n",
    "\n",
    "a"
   ]
  },
  {
   "cell_type": "code",
   "execution_count": 84,
   "id": "38f6ebff",
   "metadata": {},
   "outputs": [
    {
     "data": {
      "text/plain": [
       "8"
      ]
     },
     "execution_count": 84,
     "metadata": {},
     "output_type": "execute_result"
    }
   ],
   "source": [
    "#Oluşturulan tek boyutlu dizinin ilk elemanını yazdırınız \n",
    "a[0]"
   ]
  },
  {
   "cell_type": "code",
   "execution_count": 85,
   "id": "26a099ad",
   "metadata": {},
   "outputs": [
    {
     "data": {
      "text/plain": [
       "9"
      ]
     },
     "execution_count": 85,
     "metadata": {},
     "output_type": "execute_result"
    }
   ],
   "source": [
    "#Oluşturulan tek boyutlu dizinin ikinci elemanını yazdırınız \n",
    "a[1]"
   ]
  },
  {
   "cell_type": "code",
   "execution_count": 86,
   "id": "53f77a8c",
   "metadata": {},
   "outputs": [
    {
     "data": {
      "text/plain": [
       "15"
      ]
     },
     "execution_count": 86,
     "metadata": {},
     "output_type": "execute_result"
    }
   ],
   "source": [
    "#Oluşturulan tek boyutlu dizinin son elemanını yazdırınız \n",
    "a[-1]"
   ]
  },
  {
   "cell_type": "code",
   "execution_count": 87,
   "id": "28670c51",
   "metadata": {},
   "outputs": [
    {
     "data": {
      "text/plain": [
       "14"
      ]
     },
     "execution_count": 87,
     "metadata": {},
     "output_type": "execute_result"
    }
   ],
   "source": [
    "#Oluşturulan tek boyutlu dizinin sondan ikinci elemanını yazdırınız \n",
    "a[-2]"
   ]
  },
  {
   "cell_type": "code",
   "execution_count": 88,
   "id": "acf23258",
   "metadata": {},
   "outputs": [
    {
     "data": {
      "text/plain": [
       "array([[1, 2, 3],\n",
       "       [4, 5, 6],\n",
       "       [7, 8, 9]])"
      ]
     },
     "execution_count": 88,
     "metadata": {},
     "output_type": "execute_result"
    }
   ],
   "source": [
    "#Çok boyutlu diziden eleman seçmek\n",
    "a = np.array([[1, 2, 3],\n",
    "              [4, 5, 6],\n",
    "              [7, 8, 9]])\n",
    "\n",
    "a"
   ]
  },
  {
   "cell_type": "code",
   "execution_count": 90,
   "id": "2823573c",
   "metadata": {},
   "outputs": [
    {
     "data": {
      "text/plain": [
       "array([1, 2, 3])"
      ]
     },
     "execution_count": 90,
     "metadata": {},
     "output_type": "execute_result"
    }
   ],
   "source": [
    "#Oluşturulan çok boyutlu dizinin ilk elemanını yazdırınız \n",
    "a[0]"
   ]
  },
  {
   "cell_type": "code",
   "execution_count": 91,
   "id": "63b6e37b",
   "metadata": {},
   "outputs": [
    {
     "data": {
      "text/plain": [
       "array([7, 8, 9])"
      ]
     },
     "execution_count": 91,
     "metadata": {},
     "output_type": "execute_result"
    }
   ],
   "source": [
    "#Oluşturulan çok boyutlu dizinin son elemanını yazdırınız \n",
    "a[-1]"
   ]
  },
  {
   "cell_type": "code",
   "execution_count": 93,
   "id": "6fdf802b",
   "metadata": {},
   "outputs": [
    {
     "data": {
      "text/plain": [
       "6"
      ]
     },
     "execution_count": 93,
     "metadata": {},
     "output_type": "execute_result"
    }
   ],
   "source": [
    "#Oluşturulan çok boyutlu dizinin 1. satır ve 2. sütun değerini yazdırınız\n",
    "a[1, 2]"
   ]
  },
  {
   "cell_type": "code",
   "execution_count": 96,
   "id": "50a196a2",
   "metadata": {},
   "outputs": [
    {
     "data": {
      "text/plain": [
       "8"
      ]
     },
     "execution_count": 96,
     "metadata": {},
     "output_type": "execute_result"
    }
   ],
   "source": [
    "#Oluşturulan çok boyutlu dizinin 2. satır ve 1. sütun değerini yazdırınız\n",
    "a[2, 1]"
   ]
  },
  {
   "cell_type": "code",
   "execution_count": 97,
   "id": "9439e469",
   "metadata": {},
   "outputs": [
    {
     "data": {
      "text/plain": [
       "array([2, 5, 8])"
      ]
     },
     "execution_count": 97,
     "metadata": {},
     "output_type": "execute_result"
    }
   ],
   "source": [
    "#Oluşturulan çok boyutlu dizinin tüm satırlarını ve 1. sütunu yazdırınız\n",
    "a[:, 1]"
   ]
  },
  {
   "cell_type": "code",
   "execution_count": 98,
   "id": "d03489ba",
   "metadata": {},
   "outputs": [
    {
     "data": {
      "text/plain": [
       "array([1, 2, 3])"
      ]
     },
     "execution_count": 98,
     "metadata": {},
     "output_type": "execute_result"
    }
   ],
   "source": [
    "#Oluşturulan çok boyutlu dizinin tüm sütunlarını ve ilk satırını yazdırınız\n",
    "a[0, :]"
   ]
  },
  {
   "cell_type": "markdown",
   "id": "57259c26",
   "metadata": {},
   "source": [
    "## 7. NumPy ile Matematiksel İşlemler"
   ]
  },
  {
   "cell_type": "code",
   "execution_count": 110,
   "id": "a1291d98",
   "metadata": {},
   "outputs": [],
   "source": [
    "a = np.array([1, 2, 3, 4, 5, 6, 7, 8, 9, 10])\n",
    "\n",
    "b = np.zeros(10)\n",
    "\n",
    "c = np.ones(10)"
   ]
  },
  {
   "cell_type": "code",
   "execution_count": 114,
   "id": "0750f727",
   "metadata": {},
   "outputs": [
    {
     "data": {
      "text/plain": [
       "array([ 1.,  2.,  3.,  4.,  5.,  6.,  7.,  8.,  9., 10.])"
      ]
     },
     "execution_count": 114,
     "metadata": {},
     "output_type": "execute_result"
    }
   ],
   "source": [
    "#Toplama\n",
    "a + b"
   ]
  },
  {
   "cell_type": "code",
   "execution_count": 117,
   "id": "e090aa12",
   "metadata": {},
   "outputs": [
    {
     "data": {
      "text/plain": [
       "array([0., 1., 2., 3., 4., 5., 6., 7., 8., 9.])"
      ]
     },
     "execution_count": 117,
     "metadata": {},
     "output_type": "execute_result"
    }
   ],
   "source": [
    "#Çıkarma\n",
    "a - c"
   ]
  },
  {
   "cell_type": "code",
   "execution_count": 118,
   "id": "324fbb07",
   "metadata": {},
   "outputs": [
    {
     "data": {
      "text/plain": [
       "array([0., 0., 0., 0., 0., 0., 0., 0., 0., 0.])"
      ]
     },
     "execution_count": 118,
     "metadata": {},
     "output_type": "execute_result"
    }
   ],
   "source": [
    "#Çarpma\n",
    "a * b"
   ]
  },
  {
   "cell_type": "code",
   "execution_count": 120,
   "id": "423c95ed",
   "metadata": {},
   "outputs": [
    {
     "data": {
      "text/plain": [
       "array([ 1.,  2.,  3.,  4.,  5.,  6.,  7.,  8.,  9., 10.])"
      ]
     },
     "execution_count": 120,
     "metadata": {},
     "output_type": "execute_result"
    }
   ],
   "source": [
    "#Bölme\n",
    "a / c"
   ]
  },
  {
   "cell_type": "markdown",
   "id": "32c9c591",
   "metadata": {},
   "source": [
    "## 8. NumPy ile Özel İşlemler\n",
    "\n",
    "NumPy toplama, çıkarma gibi basit matematiksel işlemlerin yanında trigonometrik, logaritmik, üstel fonksiyonlar gibi daha kompleks fonksiyonlarla da çalışma imkanı sağlar."
   ]
  },
  {
   "cell_type": "code",
   "execution_count": 121,
   "id": "f1b61657",
   "metadata": {},
   "outputs": [
    {
     "data": {
      "text/plain": [
       "array([[1, 2, 3],\n",
       "       [4, 5, 6],\n",
       "       [7, 8, 9]])"
      ]
     },
     "execution_count": 121,
     "metadata": {},
     "output_type": "execute_result"
    }
   ],
   "source": [
    "a = np.array([1, 2, 3, 4, 5, 6, 7, 8, 9])\n",
    "\n",
    "a = a.reshape(3,3)\n",
    "\n",
    "a"
   ]
  },
  {
   "cell_type": "code",
   "execution_count": 123,
   "id": "baef3cd6",
   "metadata": {},
   "outputs": [
    {
     "name": "stdout",
     "output_type": "stream",
     "text": [
      "[[ 0.84147098  0.90929743  0.14112001]\n",
      " [-0.7568025  -0.95892427 -0.2794155 ]\n",
      " [ 0.6569866   0.98935825  0.41211849]]\n"
     ]
    }
   ],
   "source": [
    "#Sinus\n",
    "print(np.sin(a))"
   ]
  },
  {
   "cell_type": "code",
   "execution_count": 125,
   "id": "6d677b52",
   "metadata": {},
   "outputs": [
    {
     "name": "stdout",
     "output_type": "stream",
     "text": [
      "[[ 0.54030231 -0.41614684 -0.9899925 ]\n",
      " [-0.65364362  0.28366219  0.96017029]\n",
      " [ 0.75390225 -0.14550003 -0.91113026]]\n"
     ]
    }
   ],
   "source": [
    "#Cosinus\n",
    "print(np.cos(a))"
   ]
  },
  {
   "cell_type": "code",
   "execution_count": 128,
   "id": "6303ac50",
   "metadata": {},
   "outputs": [
    {
     "name": "stdout",
     "output_type": "stream",
     "text": [
      "[[0.         0.69314718 1.09861229]\n",
      " [1.38629436 1.60943791 1.79175947]\n",
      " [1.94591015 2.07944154 2.19722458]]\n"
     ]
    }
   ],
   "source": [
    "#Logarithmic\n",
    "print(np.log(a))"
   ]
  },
  {
   "cell_type": "markdown",
   "id": "5a256b33",
   "metadata": {},
   "source": [
    "# Alıştırma 1\n",
    "\n",
    "1 ile 9 arasında sayılardan oluşan bir dizi oluşturunuz."
   ]
  },
  {
   "cell_type": "code",
   "execution_count": 135,
   "id": "76b4ea95",
   "metadata": {},
   "outputs": [
    {
     "data": {
      "text/plain": [
       "numpy.ndarray"
      ]
     },
     "execution_count": 135,
     "metadata": {},
     "output_type": "execute_result"
    }
   ],
   "source": [
    "#1.çözüm\n",
    "a = np.array([1, 2, 3, 4, 5, 6, 7, 8, 9])\n",
    "\n",
    "type(a)"
   ]
  },
  {
   "cell_type": "code",
   "execution_count": 136,
   "id": "c7da15d3",
   "metadata": {},
   "outputs": [
    {
     "data": {
      "text/plain": [
       "array([1, 2, 3, 4, 5, 6, 7, 8, 9])"
      ]
     },
     "execution_count": 136,
     "metadata": {},
     "output_type": "execute_result"
    }
   ],
   "source": [
    "#2.çözüm\n",
    "a = np.arange(1, 10)\n",
    "\n",
    "a"
   ]
  },
  {
   "cell_type": "markdown",
   "id": "3b7d4071",
   "metadata": {},
   "source": [
    "# Alıştırma 2\n",
    "\n",
    "Oluşturduğunuz 1'e 9'luk matrisi 3'e 3'lük olarak düzenleyiniz."
   ]
  },
  {
   "cell_type": "code",
   "execution_count": 138,
   "id": "9830029f",
   "metadata": {},
   "outputs": [
    {
     "data": {
      "text/plain": [
       "array([[1, 2, 3],\n",
       "       [4, 5, 6],\n",
       "       [7, 8, 9]])"
      ]
     },
     "execution_count": 138,
     "metadata": {},
     "output_type": "execute_result"
    }
   ],
   "source": [
    "a = a.reshape(3, 3)\n",
    "\n",
    "a"
   ]
  },
  {
   "cell_type": "markdown",
   "id": "e6961282",
   "metadata": {},
   "source": [
    "# Alıştırma 3\n",
    "\n",
    "Oluşan matrisi ilk satırındaki değerleri getiriniz."
   ]
  },
  {
   "cell_type": "code",
   "execution_count": 140,
   "id": "9e0cd9d2",
   "metadata": {},
   "outputs": [
    {
     "data": {
      "text/plain": [
       "array([1, 2, 3])"
      ]
     },
     "execution_count": 140,
     "metadata": {},
     "output_type": "execute_result"
    }
   ],
   "source": [
    "a[0]"
   ]
  },
  {
   "cell_type": "markdown",
   "id": "74036b4d",
   "metadata": {},
   "source": [
    "# Alıştırma 4\n",
    "\n",
    "Oluşan matrisi ilk iki satırındaki değerleri getiriniz."
   ]
  },
  {
   "cell_type": "code",
   "execution_count": 143,
   "id": "caad0131",
   "metadata": {},
   "outputs": [
    {
     "data": {
      "text/plain": [
       "array([[1, 2, 3],\n",
       "       [4, 5, 6]])"
      ]
     },
     "execution_count": 143,
     "metadata": {},
     "output_type": "execute_result"
    }
   ],
   "source": [
    "a[0:2]"
   ]
  },
  {
   "cell_type": "markdown",
   "id": "c99a0c43",
   "metadata": {},
   "source": [
    "# Alıştırma 5\n",
    "\n",
    "Oluşan matrisi 2. satır 3. sütunundaki değeri getiriniz."
   ]
  },
  {
   "cell_type": "code",
   "execution_count": 145,
   "id": "f0b661fc",
   "metadata": {},
   "outputs": [
    {
     "data": {
      "text/plain": [
       "6"
      ]
     },
     "execution_count": 145,
     "metadata": {},
     "output_type": "execute_result"
    }
   ],
   "source": []
  },
  {
   "cell_type": "markdown",
   "id": "acff7770",
   "metadata": {},
   "source": [
    "# Alıştırma 5\n",
    "\n",
    "Oluşan matrisin satır-sütun sayısını kontrol ediniz, aynı satır ve sütun sayısına sahip 1'lerden oluşan bir matris ile toplayınız."
   ]
  },
  {
   "cell_type": "code",
   "execution_count": 146,
   "id": "73387417",
   "metadata": {},
   "outputs": [
    {
     "name": "stdout",
     "output_type": "stream",
     "text": [
      "(3, 3)\n"
     ]
    }
   ],
   "source": []
  },
  {
   "cell_type": "code",
   "execution_count": 149,
   "id": "82d336c5",
   "metadata": {},
   "outputs": [
    {
     "data": {
      "text/plain": [
       "array([[1., 1., 1.],\n",
       "       [1., 1., 1.],\n",
       "       [1., 1., 1.]])"
      ]
     },
     "execution_count": 149,
     "metadata": {},
     "output_type": "execute_result"
    }
   ],
   "source": []
  },
  {
   "cell_type": "code",
   "execution_count": 150,
   "id": "e1bd3848",
   "metadata": {
    "scrolled": true
   },
   "outputs": [
    {
     "name": "stdout",
     "output_type": "stream",
     "text": [
      "[[ 2.  3.  4.]\n",
      " [ 5.  6.  7.]\n",
      " [ 8.  9. 10.]]\n"
     ]
    }
   ],
   "source": []
  },
  {
   "cell_type": "markdown",
   "id": "c701f0b0",
   "metadata": {},
   "source": [
    "# Kaynakça\n",
    "\n",
    "- https://medium.com/bili%C5%9Fim-hareketi/veri-bilimi-i%CC%87%C3%A7in-temel-python-k%C3%BCt%C3%BCphaneleri-1-numpy-750429a0d8e5\n",
    "\n",
    "- https://kerteriz.net/python-numpy-kullanimi-nedir-ve-nasil-kullanilir/"
   ]
  }
 ],
 "metadata": {
  "kernelspec": {
   "display_name": "Python 3 (ipykernel)",
   "language": "python",
   "name": "python3"
  },
  "language_info": {
   "codemirror_mode": {
    "name": "ipython",
    "version": 3
   },
   "file_extension": ".py",
   "mimetype": "text/x-python",
   "name": "python",
   "nbconvert_exporter": "python",
   "pygments_lexer": "ipython3",
   "version": "3.9.12"
  }
 },
 "nbformat": 4,
 "nbformat_minor": 5
}
